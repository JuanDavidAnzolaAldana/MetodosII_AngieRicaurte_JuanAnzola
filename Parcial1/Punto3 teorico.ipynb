{
 "cells": [
  {
   "cell_type": "markdown",
   "metadata": {},
   "source": [
    "La velocidad final $v_y$ en funciòn de la velocidad inicial $u_y$ y el coeficiene de restitución $e$ es:\n",
    "$$v_y=-eu_y$$\n",
    "La energía cinética del movimiento vertical justo antes y justo después del choque sería respectivamente:\n",
    "$$K_i=\\frac{mu_y^2}{2}$$\n",
    "$$K_f=\\frac{m(eu_y)^2}{2}$$\n",
    "En los puntos más altos de la trayectoria, los componentes en y de la energía cinética son cero y la energía potencial es máxima. Por el teorema de la conservación de la energía se concluye que:\n",
    "$$U_i=gh_i=K_i=\\frac{mu_y^2}{2}$$\n",
    "$$U_f=gh_f=K_f=\\frac{m(eu)_y^2}{2}$$\n",
    "Si se dividen ambas ecuaciones se obtiene lo siguiente:\n",
    "$$\\frac{gh_i}{gh_f}=\\frac{mu_y^2}{m(eu)_y^2}$$\n",
    "$$e^2=\\frac{gh_f}{gh_i}$$\n",
    "$$e=\\sqrt{\\frac{gh_f}{gh_i}}$$\n"
   ]
  }
 ],
 "metadata": {
  "language_info": {
   "name": "python"
  }
 },
 "nbformat": 4,
 "nbformat_minor": 2
}
