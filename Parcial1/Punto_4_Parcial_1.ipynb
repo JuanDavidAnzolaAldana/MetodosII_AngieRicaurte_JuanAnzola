{
 "cells": [
  {
   "cell_type": "code",
   "execution_count": null,
   "id": "18d0ffd0",
   "metadata": {},
   "outputs": [],
   "source": [
    "import numpy as np\n",
    "import matplotlib.pyplot as plt\n",
    "from scipy import integrate"
   ]
  },
  {
   "cell_type": "code",
   "execution_count": null,
   "id": "6cd3a21e",
   "metadata": {},
   "outputs": [],
   "source": [
    "def f(x,y):\n",
    "    return np.array([(2*9.81 - (y[1]**2)*np.cos(y[0]))*np.sin(y[0])/((1/3)+(np.sin(y[0])**2)),y[1]])"
   ]
  },
  {
   "cell_type": "code",
   "execution_count": null,
   "id": "126fb364",
   "metadata": {},
   "outputs": [],
   "source": [
    "N = 100\n",
    "t = np.linspace(0,1,N)\n"
   ]
  },
  {
   "cell_type": "code",
   "execution_count": null,
   "id": "cf2826c6",
   "metadata": {},
   "outputs": [],
   "source": [
    "h = t[1] - t[0]"
   ]
  },
  {
   "cell_type": "code",
   "execution_count": null,
   "id": "c32f36d9",
   "metadata": {},
   "outputs": [],
   "source": [
    "def GetEuler(x,y,h):\n",
    "    \n",
    "    for i in range(1,len(x)):\n",
    "        k1 = f(x[i-1],y[i-1])\n",
    "        y[i] = y[i-1] + h*k1\n"
   ]
  },
  {
   "cell_type": "code",
   "execution_count": null,
   "id": "54127836",
   "metadata": {},
   "outputs": [],
   "source": [
    "y1 = np.zeros((t.size,2))\n",
    "y1[0,0]=np.pi/18"
   ]
  },
  {
   "cell_type": "code",
   "execution_count": null,
   "id": "d79b23f4",
   "metadata": {},
   "outputs": [],
   "source": [
    "GetEuler(t,y1,h)"
   ]
  },
  {
   "cell_type": "code",
   "execution_count": null,
   "id": "aa642f86",
   "metadata": {},
   "outputs": [],
   "source": [
    "def GetEuler2(x,y,h):\n",
    "    \n",
    "    for i in range(1,len(x)):\n",
    "        \n",
    "        k1 = f(x[i-1],y[i-1])\n",
    "        k2 = f(x[i-1]+h,y[i-1] + h*k1)\n",
    "        \n",
    "        y[i] = y[i-1] + 0.5*h*(k1+k2)"
   ]
  },
  {
   "cell_type": "code",
   "execution_count": null,
   "id": "7bbd4443",
   "metadata": {},
   "outputs": [],
   "source": [
    "GetEuler2(t,y1,h)"
   ]
  },
  {
   "cell_type": "code",
   "execution_count": null,
   "id": "3a1a771a",
   "metadata": {},
   "outputs": [],
   "source": [
    "y=np.zeros_like(y1)\n",
    "j=0\n",
    "for i in range(0,y1.shape[0]):\n",
    "    if (y1[i,0]>np.pi/2)and(j==0):\n",
    "        j=i\n",
    "y1=y1[0:j]\n",
    "tiempo=t[j]\n",
    "x=np.zeros_like(y1)\n",
    "y=np.cos(y1)/2\n",
    "x=np.sin(y1)/2\n",
    "print(\"El tiempo que tarda la barra en caer es: \",tiempo,\"s\")"
   ]
  },
  {
   "cell_type": "code",
   "execution_count": null,
   "id": "76a37caa",
   "metadata": {},
   "outputs": [],
   "source": [
    "plt.scatter(x,y)\n",
    "plt.xlabel('X(m)')\n",
    "plt.ylabel('Y(m)')"
   ]
  },
  {
   "cell_type": "code",
   "execution_count": null,
   "id": "27419bb9",
   "metadata": {},
   "outputs": [],
   "source": []
  },
  {
   "cell_type": "code",
   "execution_count": null,
   "id": "0dcfdc04",
   "metadata": {},
   "outputs": [],
   "source": []
  }
 ],
 "metadata": {
  "kernelspec": {
   "display_name": "Python 3 (ipykernel)",
   "language": "python",
   "name": "python3"
  },
  "language_info": {
   "codemirror_mode": {
    "name": "ipython",
    "version": 3
   },
   "file_extension": ".py",
   "mimetype": "text/x-python",
   "name": "python",
   "nbconvert_exporter": "python",
   "pygments_lexer": "ipython3",
   "version": "3.9.13"
  }
 },
 "nbformat": 4,
 "nbformat_minor": 5
}
