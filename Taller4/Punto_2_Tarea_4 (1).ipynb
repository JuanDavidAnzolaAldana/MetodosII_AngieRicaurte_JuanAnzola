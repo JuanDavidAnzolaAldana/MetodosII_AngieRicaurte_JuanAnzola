{
 "cells": [
  {
   "cell_type": "code",
   "execution_count": 11,
   "id": "cc301b56",
   "metadata": {},
   "outputs": [],
   "source": [
    "import numpy as np\n",
    "import sympy as sym"
   ]
  },
  {
   "cell_type": "code",
   "execution_count": 12,
   "id": "2d217cae",
   "metadata": {},
   "outputs": [],
   "source": [
    "def Lagrange(x,X,i):\n",
    "    \n",
    "    L = 1.\n",
    "    \n",
    "    for j in range(X.shape[0]):\n",
    "        if j != i:\n",
    "            L *= (x - X[j])/(X[i]-X[j])\n",
    "        \n",
    "    return L"
   ]
  },
  {
   "cell_type": "code",
   "execution_count": 13,
   "id": "1212e3da",
   "metadata": {},
   "outputs": [],
   "source": [
    "def Interpolate(x,X,Y):\n",
    "    \n",
    "    Poly = 0.\n",
    "    \n",
    "    for i in range(X.shape[0]):\n",
    "        Poly += Y[i]*Lagrange(x,X,i)\n",
    "        \n",
    "    return Poly"
   ]
  },
  {
   "cell_type": "markdown",
   "id": "317162a6",
   "metadata": {},
   "source": [
    "3 puntos"
   ]
  },
  {
   "cell_type": "code",
   "execution_count": 14,
   "id": "ae13b008",
   "metadata": {},
   "outputs": [
    {
     "data": {
      "text/latex": [
       "$\\displaystyle \\frac{0.5 f_{n} \\left(h + t_{n}\\right) \\left(2 h + t_{n}\\right)}{h^{2}} - \\frac{1.0 f_{n -1} t_{n} \\left(2 h + t_{n}\\right)}{h^{2}} + \\frac{0.5 f_{n -2} t_{n} \\left(h + t_{n}\\right)}{h^{2}}$"
      ],
      "text/plain": [
       "0.5*f_n*(h + t_n)*(2*h + t_n)/h**2 - 1.0*f_n_-1*t_n*(2*h + t_n)/h**2 + 0.5*f_n_-2*t_n*(h + t_n)/h**2"
      ]
     },
     "execution_count": 14,
     "metadata": {},
     "output_type": "execute_result"
    }
   ],
   "source": [
    "h=sym.Symbol('h')\n",
    "t_n=sym.Symbol('t_n')\n",
    "t=np.array([-2*h,-1*h,0*h])\n",
    "f_n=sym.Symbol('f_n')\n",
    "f_n_1=sym.Symbol('f_n_-1')\n",
    "f_n_2=sym.Symbol('f_n_-2')\n",
    "f=np.array([f_n_2,f_n_1,f_n])\n",
    "\n",
    "Polinomio_interpolador=Interpolate(t_n,t,f)\n",
    "Polinomio_interpolador"
   ]
  },
  {
   "cell_type": "code",
   "execution_count": 15,
   "id": "8017a602",
   "metadata": {},
   "outputs": [
    {
     "data": {
      "text/latex": [
       "$\\displaystyle h \\left(1.91666666666667 f_{n} - 1.33333333333333 f_{n -1} + 0.416666666666667 f_{n -2}\\right)$"
      ],
      "text/plain": [
       "h*(1.91666666666667*f_n - 1.33333333333333*f_n_-1 + 0.416666666666667*f_n_-2)"
      ]
     },
     "execution_count": 15,
     "metadata": {},
     "output_type": "execute_result"
    }
   ],
   "source": [
    "integracion_polinomio=sym.integrate(Polinomio_interpolador,(t_n,0,h))\n",
    "integracion_polinomio=sym.simplify(integracion_polinomio)\n",
    "integracion_polinomio"
   ]
  },
  {
   "cell_type": "markdown",
   "id": "68ef39cf",
   "metadata": {},
   "source": [
    "$$\n",
    "\\frac{h}{12} \\left( 23 \\cdot f_n - 16\\cdot f_{n-1} +5 f_{n-2} \\right)\n",
    "$$"
   ]
  },
  {
   "cell_type": "markdown",
   "id": "144ef97b",
   "metadata": {},
   "source": [
    "4 puntos"
   ]
  },
  {
   "cell_type": "code",
   "execution_count": 16,
   "id": "01a3ec17",
   "metadata": {},
   "outputs": [
    {
     "data": {
      "text/latex": [
       "$\\displaystyle \\frac{0.166666666666667 f_{n} \\left(h + t_{n}\\right) \\left(2 h + t_{n}\\right) \\left(3 h + t_{n}\\right)}{h^{3}} - \\frac{0.5 f_{n -1} t_{n} \\left(2 h + t_{n}\\right) \\left(3 h + t_{n}\\right)}{h^{3}} + \\frac{0.5 f_{n -2} t_{n} \\left(h + t_{n}\\right) \\left(3 h + t_{n}\\right)}{h^{3}} - \\frac{0.166666666666667 f_{n -3} t_{n} \\left(h + t_{n}\\right) \\left(2 h + t_{n}\\right)}{h^{3}}$"
      ],
      "text/plain": [
       "0.166666666666667*f_n*(h + t_n)*(2*h + t_n)*(3*h + t_n)/h**3 - 0.5*f_n_-1*t_n*(2*h + t_n)*(3*h + t_n)/h**3 + 0.5*f_n_-2*t_n*(h + t_n)*(3*h + t_n)/h**3 - 0.166666666666667*f_n_-3*t_n*(h + t_n)*(2*h + t_n)/h**3"
      ]
     },
     "execution_count": 16,
     "metadata": {},
     "output_type": "execute_result"
    }
   ],
   "source": [
    "t=np.array([-3*h,-2*h,-1*h,0*h])\n",
    "f_n_3=sym.Symbol('f_n_-3')\n",
    "f=np.array([f_n_3,f_n_2,f_n_1,f_n])\n",
    "\n",
    "Polinomio_interpolador=Interpolate(t_n,t,f)\n",
    "Polinomio_interpolador"
   ]
  },
  {
   "cell_type": "code",
   "execution_count": 17,
   "id": "aaeb94c3",
   "metadata": {},
   "outputs": [
    {
     "data": {
      "text/latex": [
       "$\\displaystyle h \\left(2.29166666666667 f_{n} - 2.45833333333333 f_{n -1} + 1.54166666666667 f_{n -2} - 0.375 f_{n -3}\\right)$"
      ],
      "text/plain": [
       "h*(2.29166666666667*f_n - 2.45833333333333*f_n_-1 + 1.54166666666667*f_n_-2 - 0.375*f_n_-3)"
      ]
     },
     "execution_count": 17,
     "metadata": {},
     "output_type": "execute_result"
    }
   ],
   "source": [
    "integracion_polinomio=sym.integrate(Polinomio_interpolador,(t_n,0,h))\n",
    "integracion_polinomio=sym.simplify(integracion_polinomio)\n",
    "integracion_polinomio"
   ]
  },
  {
   "cell_type": "markdown",
   "id": "05fb6e3f",
   "metadata": {},
   "source": [
    "$$\n",
    "\\frac{h}{24} \\left( 55 \\cdot f_n -59 \\cdot f_{n-1} +37 \\cdot f_{n-2} -9\\cdot f_{n-3} \\right)\n",
    "$$"
   ]
  }
 ],
 "metadata": {
  "kernelspec": {
   "display_name": "Python 3 (ipykernel)",
   "language": "python",
   "name": "python3"
  },
  "language_info": {
   "codemirror_mode": {
    "name": "ipython",
    "version": 3
   },
   "file_extension": ".py",
   "mimetype": "text/x-python",
   "name": "python",
   "nbconvert_exporter": "python",
   "pygments_lexer": "ipython3",
   "version": "3.9.13"
  }
 },
 "nbformat": 4,
 "nbformat_minor": 5
}
