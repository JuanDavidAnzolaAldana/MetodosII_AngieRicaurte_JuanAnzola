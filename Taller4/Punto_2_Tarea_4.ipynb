{
 "cells": [
  {
   "cell_type": "code",
   "execution_count": 87,
   "id": "cc301b56",
   "metadata": {},
   "outputs": [],
   "source": [
    "import numpy as np\n",
    "import sympy as sym"
   ]
  },
  {
   "cell_type": "code",
   "execution_count": 88,
   "id": "2d217cae",
   "metadata": {},
   "outputs": [],
   "source": [
    "def Lagrange(x,X,i):\n",
    "    \n",
    "    L = 1.\n",
    "    \n",
    "    for j in range(X.shape[0]):\n",
    "        if j != i:\n",
    "            L *= (x - X[j])/(X[i]-X[j])\n",
    "        \n",
    "    return L"
   ]
  },
  {
   "cell_type": "code",
   "execution_count": 89,
   "id": "1212e3da",
   "metadata": {},
   "outputs": [],
   "source": [
    "def Interpolate(x,X,Y):\n",
    "    \n",
    "    Poly = 0.\n",
    "    \n",
    "    for i in range(X.shape[0]):\n",
    "        Poly += Y[i]*Lagrange(x,X,i)\n",
    "        \n",
    "    return Poly"
   ]
  },
  {
   "cell_type": "markdown",
   "id": "317162a6",
   "metadata": {},
   "source": [
    "3 puntos"
   ]
  },
  {
   "cell_type": "code",
   "execution_count": 90,
   "id": "ae13b008",
   "metadata": {},
   "outputs": [
    {
     "data": {
      "text/latex": [
       "$\\displaystyle \\frac{0.5 f_{n} \\left(h + t_{n}\\right) \\left(2 h + t_{n}\\right)}{h^{2}} - \\frac{1.0 f_{n -1} t_{n} \\left(2 h + t_{n}\\right)}{h^{2}} + \\frac{0.5 f_{n -2} t_{n} \\left(h + t_{n}\\right)}{h^{2}}$"
      ],
      "text/plain": [
       "0.5*f_n*(h + t_n)*(2*h + t_n)/h**2 - 1.0*f_n_-1*t_n*(2*h + t_n)/h**2 + 0.5*f_n_-2*t_n*(h + t_n)/h**2"
      ]
     },
     "execution_count": 90,
     "metadata": {},
     "output_type": "execute_result"
    }
   ],
   "source": [
    "h=sym.Symbol('h')\n",
    "t_n=sym.Symbol('t_n')\n",
    "t=np.array([-2*h,-1*h,0*h])\n",
    "f_n=sym.Symbol('f_n')\n",
    "f_n_1=sym.Symbol('f_n_-1')\n",
    "f_n_2=sym.Symbol('f_n_-2')\n",
    "f=np.array([f_n_2,f_n_1,f_n])\n",
    "\n",
    "Polinomio_interpolador=Interpolate(t_n,t,f)\n",
    "Polinomio_interpolador"
   ]
  },
  {
   "cell_type": "code",
   "execution_count": 91,
   "id": "8017a602",
   "metadata": {},
   "outputs": [
    {
     "data": {
      "text/latex": [
       "$\\displaystyle \\frac{h \\left(23 f_{n} - 16 f_{n -1} + 5 f_{n -2}\\right)}{12}$"
      ],
      "text/plain": [
       "h*(23*f_n - 16*f_n_-1 + 5*f_n_-2)/12"
      ]
     },
     "execution_count": 91,
     "metadata": {},
     "output_type": "execute_result"
    }
   ],
   "source": [
    "integracion_polinomio=sym.integrate(Polinomio_interpolador,(t_n,0,h))\n",
    "integracion_polinomio=sym.nsimplify(integracion_polinomio,tolerance=0.1)\n",
    "integracion_polinomio=sym.simplify(integracion_polinomio)\n",
    "integracion_polinomio"
   ]
  },
  {
   "cell_type": "markdown",
   "id": "144ef97b",
   "metadata": {},
   "source": [
    "4 puntos"
   ]
  },
  {
   "cell_type": "code",
   "execution_count": 94,
   "id": "01a3ec17",
   "metadata": {},
   "outputs": [
    {
     "data": {
      "text/latex": [
       "$\\displaystyle \\frac{0.166666666666667 f_{n} \\left(h + t_{n}\\right) \\left(2 h + t_{n}\\right) \\left(3 h + t_{n}\\right)}{h^{3}} - \\frac{0.5 f_{n -1} t_{n} \\left(2 h + t_{n}\\right) \\left(3 h + t_{n}\\right)}{h^{3}} + \\frac{0.5 f_{n -2} t_{n} \\left(h + t_{n}\\right) \\left(3 h + t_{n}\\right)}{h^{3}} - \\frac{0.166666666666667 f_{n -3} t_{n} \\left(h + t_{n}\\right) \\left(2 h + t_{n}\\right)}{h^{3}}$"
      ],
      "text/plain": [
       "0.166666666666667*f_n*(h + t_n)*(2*h + t_n)*(3*h + t_n)/h**3 - 0.5*f_n_-1*t_n*(2*h + t_n)*(3*h + t_n)/h**3 + 0.5*f_n_-2*t_n*(h + t_n)*(3*h + t_n)/h**3 - 0.166666666666667*f_n_-3*t_n*(h + t_n)*(2*h + t_n)/h**3"
      ]
     },
     "execution_count": 94,
     "metadata": {},
     "output_type": "execute_result"
    }
   ],
   "source": [
    "t=np.array([-3*h,-2*h,-1*h,0*h])\n",
    "f_n_3=sym.Symbol('f_n_-3')\n",
    "f=np.array([f_n_3,f_n_2,f_n_1,f_n])\n",
    "\n",
    "Polinomio_interpolador=Interpolate(t_n,t,f)\n",
    "Polinomio_interpolador"
   ]
  },
  {
   "cell_type": "code",
   "execution_count": 95,
   "id": "aaeb94c3",
   "metadata": {},
   "outputs": [
    {
     "data": {
      "text/latex": [
       "$\\displaystyle \\frac{h \\left(55 f_{n} - 59 f_{n -1} + 37 f_{n -2} - 9 f_{n -3}\\right)}{24}$"
      ],
      "text/plain": [
       "h*(55*f_n - 59*f_n_-1 + 37*f_n_-2 - 9*f_n_-3)/24"
      ]
     },
     "execution_count": 95,
     "metadata": {},
     "output_type": "execute_result"
    }
   ],
   "source": [
    "integracion_polinomio=sym.integrate(Polinomio_interpolador,(t_n,0,h))\n",
    "integracion_polinomio=sym.nsimplify(integracion_polinomio,tolerance=0.1)\n",
    "integracion_polinomio=sym.simplify(integracion_polinomio)\n",
    "integracion_polinomio"
   ]
  }
 ],
 "metadata": {
  "kernelspec": {
   "display_name": "Python 3 (ipykernel)",
   "language": "python",
   "name": "python3"
  },
  "language_info": {
   "codemirror_mode": {
    "name": "ipython",
    "version": 3
   },
   "file_extension": ".py",
   "mimetype": "text/x-python",
   "name": "python",
   "nbconvert_exporter": "python",
   "pygments_lexer": "ipython3",
   "version": "3.9.13"
  }
 },
 "nbformat": 4,
 "nbformat_minor": 5
}
