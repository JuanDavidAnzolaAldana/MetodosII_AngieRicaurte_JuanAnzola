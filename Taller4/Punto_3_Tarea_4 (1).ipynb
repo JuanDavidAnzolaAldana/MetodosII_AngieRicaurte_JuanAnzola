{
 "cells": [
  {
   "cell_type": "code",
   "execution_count": 32,
   "id": "cc301b56",
   "metadata": {},
   "outputs": [],
   "source": [
    "import numpy as np\n",
    "import sympy as sym"
   ]
  },
  {
   "cell_type": "code",
   "execution_count": 33,
   "id": "2d217cae",
   "metadata": {},
   "outputs": [],
   "source": [
    "def Lagrange(x,X,i):\n",
    "    \n",
    "    L = 1.\n",
    "    \n",
    "    for j in range(X.shape[0]):\n",
    "        if j != i:\n",
    "            L *= (x - X[j])/(X[i]-X[j])\n",
    "        \n",
    "    return L"
   ]
  },
  {
   "cell_type": "code",
   "execution_count": 34,
   "id": "1212e3da",
   "metadata": {},
   "outputs": [],
   "source": [
    "def Interpolate(x,X,Y):\n",
    "    \n",
    "    Poly = 0.\n",
    "    \n",
    "    for i in range(X.shape[0]):\n",
    "        Poly += Y[i]*Lagrange(x,X,i)\n",
    "        \n",
    "    return Poly"
   ]
  },
  {
   "cell_type": "markdown",
   "id": "3f759c5d",
   "metadata": {},
   "source": [
    "3 puntos"
   ]
  },
  {
   "cell_type": "code",
   "execution_count": 35,
   "id": "8018ce53",
   "metadata": {},
   "outputs": [
    {
     "data": {
      "text/latex": [
       "$\\displaystyle - \\frac{1.0 f_{n} \\left(- h + t_{n}\\right) \\left(h + t_{n}\\right)}{h^{2}} + \\frac{0.5 f_{n +1} t_{n} \\left(h + t_{n}\\right)}{h^{2}} + \\frac{0.5 f_{n -1} t_{n} \\left(- h + t_{n}\\right)}{h^{2}}$"
      ],
      "text/plain": [
       "-1.0*f_n*(-h + t_n)*(h + t_n)/h**2 + 0.5*f_n_+1*t_n*(h + t_n)/h**2 + 0.5*f_n_-1*t_n*(-h + t_n)/h**2"
      ]
     },
     "execution_count": 35,
     "metadata": {},
     "output_type": "execute_result"
    }
   ],
   "source": [
    "h=sym.Symbol('h')\n",
    "t_n=sym.Symbol('t_n')\n",
    "t=np.array([-1*h,0*h,1*h])\n",
    "f_n=sym.Symbol('f_n')\n",
    "f_n_1=sym.Symbol('f_n_-1')\n",
    "f_n_2=sym.Symbol('f_n_+1')\n",
    "f=np.array([f_n_1,f_n,f_n_2])\n",
    "\n",
    "Polinomio_interpolador=Interpolate(t_n,t,f)\n",
    "Polinomio_interpolador"
   ]
  },
  {
   "cell_type": "code",
   "execution_count": 36,
   "id": "14df9995",
   "metadata": {},
   "outputs": [
    {
     "data": {
      "text/latex": [
       "$\\displaystyle h \\left(0.666666666666667 f_{n} + 0.416666666666667 f_{n +1} - 0.0833333333333333 f_{n -1}\\right)$"
      ],
      "text/plain": [
       "h*(0.666666666666667*f_n + 0.416666666666667*f_n_+1 - 0.0833333333333333*f_n_-1)"
      ]
     },
     "execution_count": 36,
     "metadata": {},
     "output_type": "execute_result"
    }
   ],
   "source": [
    "integracion_polinomio=sym.integrate(Polinomio_interpolador,(t_n,0,h))\n",
    "integracion_polinomio=sym.simplify(integracion_polinomio)\n",
    "integracion_polinomio"
   ]
  },
  {
   "cell_type": "markdown",
   "id": "5e310cba",
   "metadata": {},
   "source": [
    "$$\n",
    "\\frac{h}{12} \\left( 8 \\cdot f_n + 5 \\cdot f_{n+1} - f_{n-1} \\right)\n",
    "$$"
   ]
  },
  {
   "cell_type": "markdown",
   "id": "37ed75f9",
   "metadata": {},
   "source": [
    "4 puntos"
   ]
  },
  {
   "cell_type": "code",
   "execution_count": 37,
   "id": "89554da5",
   "metadata": {},
   "outputs": [
    {
     "data": {
      "text/latex": [
       "$\\displaystyle - \\frac{0.5 f_{n} \\left(- h + t_{n}\\right) \\left(h + t_{n}\\right) \\left(2 h + t_{n}\\right)}{h^{3}} + \\frac{0.166666666666667 f_{n +1} t_{n} \\left(h + t_{n}\\right) \\left(2 h + t_{n}\\right)}{h^{3}} + \\frac{0.5 f_{n -1} t_{n} \\left(- h + t_{n}\\right) \\left(2 h + t_{n}\\right)}{h^{3}} - \\frac{0.166666666666667 f_{n -2} t_{n} \\left(- h + t_{n}\\right) \\left(h + t_{n}\\right)}{h^{3}}$"
      ],
      "text/plain": [
       "-0.5*f_n*(-h + t_n)*(h + t_n)*(2*h + t_n)/h**3 + 0.166666666666667*f_n_+1*t_n*(h + t_n)*(2*h + t_n)/h**3 + 0.5*f_n_-1*t_n*(-h + t_n)*(2*h + t_n)/h**3 - 0.166666666666667*f_n_-2*t_n*(-h + t_n)*(h + t_n)/h**3"
      ]
     },
     "execution_count": 37,
     "metadata": {},
     "output_type": "execute_result"
    }
   ],
   "source": [
    "t=np.array([-2*h,-1*h,0*h,1*h])\n",
    "f_n_3=sym.Symbol('f_n_-2')\n",
    "f=np.array([f_n_3,f_n_1,f_n,f_n_2])\n",
    "\n",
    "Polinomio_interpolador=Interpolate(t_n,t,f)\n",
    "Polinomio_interpolador"
   ]
  },
  {
   "cell_type": "code",
   "execution_count": 38,
   "id": "7a04058f",
   "metadata": {},
   "outputs": [
    {
     "data": {
      "text/latex": [
       "$\\displaystyle h \\left(0.791666666666667 f_{n} + 0.375 f_{n +1} - 0.208333333333333 f_{n -1} + 0.0416666666666667 f_{n -2}\\right)$"
      ],
      "text/plain": [
       "h*(0.791666666666667*f_n + 0.375*f_n_+1 - 0.208333333333333*f_n_-1 + 0.0416666666666667*f_n_-2)"
      ]
     },
     "execution_count": 38,
     "metadata": {},
     "output_type": "execute_result"
    }
   ],
   "source": [
    "integracion_polinomio=sym.integrate(Polinomio_interpolador,(t_n,0,h))\n",
    "integracion_polinomio=sym.simplify(integracion_polinomio)\n",
    "integracion_polinomio"
   ]
  },
  {
   "cell_type": "markdown",
   "id": "f0792050",
   "metadata": {},
   "source": [
    "$$\n",
    "\\frac{h}{24} \\left( 19 \\cdot f_n + 9 \\cdot f_{n+1} -5 \\cdot f_{n-1} + 1 \\cdot f_{n-2} \\right)\n",
    "$$"
   ]
  }
 ],
 "metadata": {
  "kernelspec": {
   "display_name": "Python 3 (ipykernel)",
   "language": "python",
   "name": "python3"
  },
  "language_info": {
   "codemirror_mode": {
    "name": "ipython",
    "version": 3
   },
   "file_extension": ".py",
   "mimetype": "text/x-python",
   "name": "python",
   "nbconvert_exporter": "python",
   "pygments_lexer": "ipython3",
   "version": "3.9.13"
  }
 },
 "nbformat": 4,
 "nbformat_minor": 5
}
