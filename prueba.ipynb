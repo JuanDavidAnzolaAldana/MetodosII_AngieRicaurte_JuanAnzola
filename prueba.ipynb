{
 "cells": [
  {
   "cell_type": "markdown",
   "metadata": {},
   "source": [
    "a. La fuerza de Lorentz es:\n",
    "$$\\vec{F}=q(\\vec{E}+\\vec{v}\\times\\vec{B})$$\n",
    "Se sabe que no hay campo eléctrico, y el campo magnético es:\n",
    "$$\\vec{B}=B_0 sin(\\omega t)\\hat{k}$$\n",
    "Asumiendo que la velocidad es:\n",
    "$$\\vec{v}=v_x\\hat{i}+v_y\\hat{j}+v_z\\hat{k}$$\n",
    "Entonces la fuerza sería:\n",
    "$$\\vec{F}=B_0 q v_y sin(\\omega t)\\hat{i}-B_0 q v_x sin(\\omega t)\\hat{j}$$\n",
    "Y las componentes de la aceleración serían:\n",
    "$$a_x=-k v_y sin(\\omega t)$$\n",
    "$$a_y=k v_x sin(\\omega t)$$\n",
    "Donde k es una constante que depende de la masa, la carga y el campo magnético inicial."
   ]
  },
  {
   "cell_type": "code",
   "execution_count": 2,
   "metadata": {},
   "outputs": [],
   "source": [
    "import numpy\n",
    "import matplotlib.pyplot as plt\n",
    "k=1\n",
    "w=0.3\n",
    "def dvx(r,t):\n",
    "    return -k*r[4]*numpy.sin(w*t)\n",
    "def dvy(r,t):\n",
    "    return k*r[3]*numpy.sin(w*t)\n",
    "def dvz(r,t):\n",
    "    return 0\n",
    "def dx(r,t):\n",
    "    return r[3]\n",
    "def dy(r,t):\n",
    "    return r[4]\n",
    "def dz(r,t):\n",
    "    return r[5]\n",
    "def dr(r,t):\n",
    "    return numpy.array(dx(r,t),dy(r,t),dz(r,t),dvx(r,t),dvy(r,t),dvz(r,t))"
   ]
  },
  {
   "cell_type": "code",
   "execution_count": null,
   "metadata": {},
   "outputs": [],
   "source": [
    "def rungekutta(h,t,r0):\n",
    "    t=numpy.arange(0,t,h)\n",
    "    R=numpy.zeros((t.size,6))\n",
    "    R[0]=r0\n",
    "    for i in range(0,t.size-1):\n",
    "        k1=dr(R[i],t[i])\n",
    "        k2=dr(R[i]+k1*h,t[i]+h)\n",
    "        R[i+1]=R[i]((k1+k2)*h/2)"
   ]
  }
 ],
 "metadata": {
  "kernelspec": {
   "display_name": "Python 3",
   "language": "python",
   "name": "python3"
  },
  "language_info": {
   "codemirror_mode": {
    "name": "ipython",
    "version": 3
   },
   "file_extension": ".py",
   "mimetype": "text/x-python",
   "name": "python",
   "nbconvert_exporter": "python",
   "pygments_lexer": "ipython3",
   "version": "3.11.2"
  }
 },
 "nbformat": 4,
 "nbformat_minor": 2
}
