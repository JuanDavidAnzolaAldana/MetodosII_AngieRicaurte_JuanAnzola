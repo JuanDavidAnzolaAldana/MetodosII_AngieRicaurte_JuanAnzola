{
 "cells": [
  {
   "cell_type": "code",
   "execution_count": 45,
   "metadata": {},
   "outputs": [
    {
     "data": {
      "text/latex": [
       "$\\displaystyle x$"
      ],
      "text/plain": [
       "x"
      ]
     },
     "execution_count": 45,
     "metadata": {},
     "output_type": "execute_result"
    }
   ],
   "source": [
    "import numpy\n",
    "import matplotlib.pyplot as plt\n",
    "import sympy\n",
    "varx=sympy.Symbol(\"x\",real=True)\n",
    "varx"
   ]
  },
  {
   "cell_type": "code",
   "execution_count": 96,
   "metadata": {},
   "outputs": [
    {
     "data": {
      "text/plain": [
       "3"
      ]
     },
     "execution_count": 96,
     "metadata": {},
     "output_type": "execute_result"
    }
   ],
   "source": [
    "def derivada(r:float,t:float)->float:\n",
    "    return 6*t-3*r\n",
    "derivada(1,1)"
   ]
  },
  {
   "cell_type": "code",
   "execution_count": 52,
   "metadata": {},
   "outputs": [],
   "source": [
    "def rungekutta(h:float,x:numpy.array)->numpy.array:\n",
    "    y=numpy.zeros(x.size)\n",
    "    y[0]=1\n",
    "    for i in range(0,x.size-1):\n",
    "        k1=derivada(y[i],x[i])\n",
    "        k2=derivada(y[i]+(k1*h/2),x[i]+(h/2))\n",
    "        k3=derivada(y[i]+(k2*h/2),x[i]+(h/2))\n",
    "        k4=derivada(y[i]+(k3*h),x[i]+h)\n",
    "        y[i+1]=y[i]+((k1+(2*k2)+(2*k3)+k4)*h/6)\n",
    "    return y"
   ]
  },
  {
   "cell_type": "code",
   "execution_count": 49,
   "metadata": {},
   "outputs": [
    {
     "data": {
      "text/plain": [
       "[-(x - 4)*(x - 3)*(x - 2)/6,\n",
       " (x - 4)*(x - 3)*(x - 1)/2,\n",
       " -(x - 4)*(x - 2)*(x - 1)/2,\n",
       " (x - 3)*(x - 2)*(x - 1)/6]"
      ]
     },
     "execution_count": 49,
     "metadata": {},
     "output_type": "execute_result"
    }
   ],
   "source": [
    "def lagrange(x:numpy.array)->list:\n",
    "    prod=1\n",
    "    for k in x:\n",
    "        prod*=varx-k\n",
    "    salida=[]\n",
    "    for k in x:\n",
    "        val=prod/(varx-k)\n",
    "        lamb=sympy.lambdify(varx,val,\"numpy\")\n",
    "        salida.append(val/lamb(k))\n",
    "    return salida\n",
    "lagrange([1,2,3,4])"
   ]
  },
  {
   "cell_type": "code",
   "execution_count": 67,
   "metadata": {},
   "outputs": [
    {
     "data": {
      "text/plain": [
       "12946.799999999992"
      ]
     },
     "execution_count": 67,
     "metadata": {},
     "output_type": "execute_result"
    }
   ],
   "source": [
    "def cuadratura(f:sympy.core.mul.Mul,grado:int,minn:float,maxx:float)->float:\n",
    "    n=int((grado)/2+1)\n",
    "    puntos, pesos=numpy.polynomial.legendre.leggauss(n)\n",
    "    lamb=sympy.lambdify(varx,f,\"numpy\")\n",
    "    delta=(maxx-minn)/2\n",
    "    prom=(maxx+minn)/2\n",
    "    return delta*numpy.sum(pesos*lamb((delta*puntos)+prom))\n",
    "cuadratura(5*varx**5-18*varx**4+varx**3/2-3*varx**2+varx-7,5,-5,7)\n",
    "    "
   ]
  },
  {
   "cell_type": "code",
   "execution_count": 88,
   "metadata": {},
   "outputs": [],
   "source": [
    "def adams(t0,h,tf,orden):\n",
    "    t=numpy.arange(t0,tf,h)\n",
    "    t4=t[:orden]\n",
    "    y=numpy.zeros_like(t)\n",
    "    prima=numpy.zeros_like(t)\n",
    "    y4=rungekutta(h,t4)\n",
    "    for i in range(0,orden):\n",
    "        y[i]=y4[i]\n",
    "        prima[i]=derivada(y4[i],t[i])\n",
    "    for i in range(0,t.size-orden):\n",
    "        #bashford\n",
    "        valores=t[i:i+orden]\n",
    "        polinomios=lagrange(valores)\n",
    "        cuadraturas=[]\n",
    "        for j in polinomios:\n",
    "            cuadraturas.append(cuadratura(j,orden,t[i+orden-1],t[i+orden]))\n",
    "        cuadraturas=numpy.array(cuadraturas)\n",
    "        y[i+orden]=y[i+orden-1]+numpy.sum(cuadraturas*prima[i:i+orden])\n",
    "        prima[i+orden]=derivada(y[i+orden],t[i+orden])\n",
    "        #moulton\n",
    "        valores=t[i:i+orden+1]\n",
    "        polinomios=lagrange(valores)\n",
    "        cuadraturas=[]\n",
    "        for j in polinomios:\n",
    "            cuadraturas.append(cuadratura(j,orden+1,t[i+orden-1],t[i+orden]))\n",
    "        cuadraturas=numpy.array(cuadraturas)\n",
    "        y[i+orden]=y[i+orden-1]+numpy.sum(cuadraturas*prima[i:i+orden+1])\n",
    "        prima[i+orden]=derivada(y[i+orden],t[i+orden])\n",
    "    return y"
   ]
  },
  {
   "cell_type": "code",
   "execution_count": 103,
   "metadata": {},
   "outputs": [],
   "source": [
    "def adams4(t,h):\n",
    "    t4=t[:5]\n",
    "    y=numpy.zeros_like(t)\n",
    "    prima=numpy.zeros_like(t)\n",
    "    y4=rungekutta(h,t4)\n",
    "    for i in range(0,5):\n",
    "        y[i]=y4[i]\n",
    "        prima[i]=derivada(y4[i],t[i])\n",
    "    for i in range(0,t.size-5):\n",
    "        #bashford\n",
    "        y[i+5]=y[i+4]+(h*((1901*prima[i+4])-(2774*prima[i+3])+(2616*prima[i+2])-(1274*prima[i+1])+(251*prima[i]))/720)\n",
    "        prima[i+5]=derivada(y[i+5],t[i+5])\n",
    "        #moulton\n",
    "        y[i+4]=y[i+3]+(h*((251*prima[i+4])+(646*prima[i+3])-(264*prima[i+2])+(106*prima[i+1])-(19*prima[i]))/720)\n",
    "        prima[i+4]=derivada(y[i+4],t[i+4])\n",
    "    return y"
   ]
  },
  {
   "cell_type": "code",
   "execution_count": 108,
   "metadata": {},
   "outputs": [
    {
     "data": {
      "text/plain": [
       "<matplotlib.legend.Legend at 0x12cf89a50>"
      ]
     },
     "execution_count": 108,
     "metadata": {},
     "output_type": "execute_result"
    },
    {
     "data": {
      "image/png": "[encoded data removed]",
      "text/plain": [
       "<Figure size 640x480 with 1 Axes>"
      ]
     },
     "metadata": {},
     "output_type": "display_data"
    }
   ],
   "source": [
    "t=numpy.arange(0,30,0.5)\n",
    "yk=rungekutta(t[1],t)\n",
    "#y=adams(0,0.5,30,5)\n",
    "y4=adams4(0,0.5,30)\n",
    "plt.plot(t,yk,label=\"rungekutta\")\n",
    "#plt.plot(t,y,label=\"adams\")\n",
    "plt.plot(t,y4,label=\"adams4\")\n",
    "plt.legend()"
   ]
  }
 ],
 "metadata": {
  "kernelspec": {
   "display_name": "Python 3",
   "language": "python",
   "name": "python3"
  },
  "language_info": {
   "codemirror_mode": {
    "name": "ipython",
    "version": 3
   },
   "file_extension": ".py",
   "mimetype": "text/x-python",
   "name": "python",
   "nbconvert_exporter": "python",
   "pygments_lexer": "ipython3",
   "version": "3.11.2"
  }
 },
 "nbformat": 4,
 "nbformat_minor": 2
}
